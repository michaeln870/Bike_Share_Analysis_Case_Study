{
 "cells": [
  {
   "cell_type": "markdown",
   "metadata": {},
   "source": [
    "# Bike Share Data Analysis - Case Study\n",
    "\n",
    "*The project idea originates from the Google Data Analytics Capstone course on Coursera*\n",
    "\n",
    "## Scenario\n",
    "\n",
    "Cyclistic is a bike-share company that features more than 5,800 bicycles and 600 docking stations. It sets itself apart by also offering reclining bikes, hand tricycles, and cargo bikes, making bike-share more inclusive to people with disabilities and riders who can’t use a standard two-wheeled bike. The majority of riders opt for traditional bikes; about 8% of riders use the assistive options. Cyclistic users are more likely to ride for leisure, but about 30% use them to commute to work each day.\n",
    "\n",
    "The director of marketing believes the company’s future success depends on maximizing the number of annual memberships. Therefore, your team wants to understand how casual riders and annual members use Cyclistic bikes differently. From these insights, your team will design a new marketing strategy to convert casual riders into annual members.\n",
    "\n",
    "**Business Task**\n",
    "\n",
    "In this project, we are tasked to answer the following question:  \n",
    "> **How do annual members and casual riders use Cyclistic bikes differently?**"
   ]
  },
  {
   "cell_type": "markdown",
   "metadata": {},
   "source": [
    "## The Data\n",
    "\n",
    "For this analysis, we will be using Cyclistic's previous 12 months of trip data (from April 2020 to March 2021). The dataset consist of 3,489,748 individual trips with the following information:\n",
    "\n",
    "- Rideable bike type (Classic or Electric)\n",
    "- Trip start date and time\n",
    "- Trip end date and time\n",
    "- Trip start station (name, id, latitude and longitude)\n",
    "- Trip end station (name, id, latitude and longitude)\n",
    "- User type (Annual Member or Casual Rider)\n",
    "\n",
    "*The data is provided and made public by Divvy Bikes. Data and more information available at https://www.divvybikes.com/system-data.*"
   ]
  },
  {
   "cell_type": "markdown",
   "metadata": {},
   "source": [
    "## Process\n",
    "Given our data at hand, in this analysis we're interested in knowing if there is any difference between the two type of users in follwoing data points:\n",
    "- Month preference \n",
    "- Time of day (hour) preference\n",
    "- Day of the week preference\n",
    "- Trip duration\n",
    "- Ratio of round trips\n",
    "- Distance travelled\n",
    "- Type of bike preference\n",
    "\n",
    "Let's first transform and clean our data to be ready for analysis."
   ]
  },
  {
   "cell_type": "code",
   "execution_count": 1,
   "metadata": {},
   "outputs": [],
   "source": [
    "#Libraries needed\n",
    "import glob\n",
    "import pandas as pd\n",
    "import numpy as np\n",
    "import seaborn as sns\n",
    "import matplotlib.pyplot as plt\n",
    "%matplotlib inline"
   ]
  },
  {
   "cell_type": "markdown",
   "metadata": {},
   "source": [
    "**Merging all datasets**  \n",
    "The data is composed of 12 individual .csv files, one for each months. There's a nice nifty trick to load all datasets and merge them into a single DataFrame using the glob library."
   ]
  },
  {
   "cell_type": "code",
   "execution_count": 2,
   "metadata": {},
   "outputs": [],
   "source": [
    "trips = pd.concat(map(pd.read_csv, glob.glob('data/*.csv')), ignore_index = True)"
   ]
  },
  {
   "cell_type": "code",
   "execution_count": 3,
   "metadata": {},
   "outputs": [
    {
     "data": {
      "text/html": [
       "<div>\n",
       "<style scoped>\n",
       "    .dataframe tbody tr th:only-of-type {\n",
       "        vertical-align: middle;\n",
       "    }\n",
       "\n",
       "    .dataframe tbody tr th {\n",
       "        vertical-align: top;\n",
       "    }\n",
       "\n",
       "    .dataframe thead th {\n",
       "        text-align: right;\n",
       "    }\n",
       "</style>\n",
       "<table border=\"1\" class=\"dataframe\">\n",
       "  <thead>\n",
       "    <tr style=\"text-align: right;\">\n",
       "      <th></th>\n",
       "      <th>ride_id</th>\n",
       "      <th>rideable_type</th>\n",
       "      <th>started_at</th>\n",
       "      <th>ended_at</th>\n",
       "      <th>start_station_name</th>\n",
       "      <th>start_station_id</th>\n",
       "      <th>end_station_name</th>\n",
       "      <th>end_station_id</th>\n",
       "      <th>start_lat</th>\n",
       "      <th>start_lng</th>\n",
       "      <th>end_lat</th>\n",
       "      <th>end_lng</th>\n",
       "      <th>member_casual</th>\n",
       "    </tr>\n",
       "  </thead>\n",
       "  <tbody>\n",
       "    <tr>\n",
       "      <th>0</th>\n",
       "      <td>A847FADBBC638E45</td>\n",
       "      <td>docked_bike</td>\n",
       "      <td>2020-04-26 17:45:14</td>\n",
       "      <td>2020-04-26 18:12:03</td>\n",
       "      <td>Eckhart Park</td>\n",
       "      <td>86</td>\n",
       "      <td>Lincoln Ave &amp; Diversey Pkwy</td>\n",
       "      <td>152</td>\n",
       "      <td>41.8964</td>\n",
       "      <td>-87.6610</td>\n",
       "      <td>41.9322</td>\n",
       "      <td>-87.6586</td>\n",
       "      <td>member</td>\n",
       "    </tr>\n",
       "    <tr>\n",
       "      <th>1</th>\n",
       "      <td>5405B80E996FF60D</td>\n",
       "      <td>docked_bike</td>\n",
       "      <td>2020-04-17 17:08:54</td>\n",
       "      <td>2020-04-17 17:17:03</td>\n",
       "      <td>Drake Ave &amp; Fullerton Ave</td>\n",
       "      <td>503</td>\n",
       "      <td>Kosciuszko Park</td>\n",
       "      <td>499</td>\n",
       "      <td>41.9244</td>\n",
       "      <td>-87.7154</td>\n",
       "      <td>41.9306</td>\n",
       "      <td>-87.7238</td>\n",
       "      <td>member</td>\n",
       "    </tr>\n",
       "    <tr>\n",
       "      <th>2</th>\n",
       "      <td>5DD24A79A4E006F4</td>\n",
       "      <td>docked_bike</td>\n",
       "      <td>2020-04-01 17:54:13</td>\n",
       "      <td>2020-04-01 18:08:36</td>\n",
       "      <td>McClurg Ct &amp; Erie St</td>\n",
       "      <td>142</td>\n",
       "      <td>Indiana Ave &amp; Roosevelt Rd</td>\n",
       "      <td>255</td>\n",
       "      <td>41.8945</td>\n",
       "      <td>-87.6179</td>\n",
       "      <td>41.8679</td>\n",
       "      <td>-87.6230</td>\n",
       "      <td>member</td>\n",
       "    </tr>\n",
       "    <tr>\n",
       "      <th>3</th>\n",
       "      <td>2A59BBDF5CDBA725</td>\n",
       "      <td>docked_bike</td>\n",
       "      <td>2020-04-07 12:50:19</td>\n",
       "      <td>2020-04-07 13:02:31</td>\n",
       "      <td>California Ave &amp; Division St</td>\n",
       "      <td>216</td>\n",
       "      <td>Wood St &amp; Augusta Blvd</td>\n",
       "      <td>657</td>\n",
       "      <td>41.9030</td>\n",
       "      <td>-87.6975</td>\n",
       "      <td>41.8992</td>\n",
       "      <td>-87.6722</td>\n",
       "      <td>member</td>\n",
       "    </tr>\n",
       "    <tr>\n",
       "      <th>4</th>\n",
       "      <td>27AD306C119C6158</td>\n",
       "      <td>docked_bike</td>\n",
       "      <td>2020-04-18 10:22:59</td>\n",
       "      <td>2020-04-18 11:15:54</td>\n",
       "      <td>Rush St &amp; Hubbard St</td>\n",
       "      <td>125</td>\n",
       "      <td>Sheridan Rd &amp; Lawrence Ave</td>\n",
       "      <td>323</td>\n",
       "      <td>41.8902</td>\n",
       "      <td>-87.6262</td>\n",
       "      <td>41.9695</td>\n",
       "      <td>-87.6547</td>\n",
       "      <td>casual</td>\n",
       "    </tr>\n",
       "  </tbody>\n",
       "</table>\n",
       "</div>"
      ],
      "text/plain": [
       "            ride_id rideable_type           started_at             ended_at  \\\n",
       "0  A847FADBBC638E45   docked_bike  2020-04-26 17:45:14  2020-04-26 18:12:03   \n",
       "1  5405B80E996FF60D   docked_bike  2020-04-17 17:08:54  2020-04-17 17:17:03   \n",
       "2  5DD24A79A4E006F4   docked_bike  2020-04-01 17:54:13  2020-04-01 18:08:36   \n",
       "3  2A59BBDF5CDBA725   docked_bike  2020-04-07 12:50:19  2020-04-07 13:02:31   \n",
       "4  27AD306C119C6158   docked_bike  2020-04-18 10:22:59  2020-04-18 11:15:54   \n",
       "\n",
       "             start_station_name start_station_id             end_station_name  \\\n",
       "0                  Eckhart Park               86  Lincoln Ave & Diversey Pkwy   \n",
       "1     Drake Ave & Fullerton Ave              503              Kosciuszko Park   \n",
       "2          McClurg Ct & Erie St              142   Indiana Ave & Roosevelt Rd   \n",
       "3  California Ave & Division St              216       Wood St & Augusta Blvd   \n",
       "4          Rush St & Hubbard St              125   Sheridan Rd & Lawrence Ave   \n",
       "\n",
       "  end_station_id  start_lat  start_lng  end_lat  end_lng member_casual  \n",
       "0            152    41.8964   -87.6610  41.9322 -87.6586        member  \n",
       "1            499    41.9244   -87.7154  41.9306 -87.7238        member  \n",
       "2            255    41.8945   -87.6179  41.8679 -87.6230        member  \n",
       "3            657    41.9030   -87.6975  41.8992 -87.6722        member  \n",
       "4            323    41.8902   -87.6262  41.9695 -87.6547        casual  "
      ]
     },
     "execution_count": 3,
     "metadata": {},
     "output_type": "execute_result"
    }
   ],
   "source": [
    "trips.head()"
   ]
  },
  {
   "cell_type": "markdown",
   "metadata": {},
   "source": [
    "**Adding new columns**  \n",
    "In order to facilitate our analysis, we can create new columns with date and time elements, as well as calculating a few features we are isnterested in."
   ]
  },
  {
   "cell_type": "code",
   "execution_count": 4,
   "metadata": {},
   "outputs": [],
   "source": [
    "#Converting date columns into datetime values\n",
    "trips['started_at'] = pd.to_datetime(trips['started_at'])\n",
    "trips['ended_at'] = pd.to_datetime(trips['ended_at'])\n",
    "\n",
    "#Adding date elements as columns to DataFrame\n",
    "trips['month'] = trips['started_at'].apply(lambda time: time.month)\n",
    "trips['hour'] = trips['started_at'].apply(lambda time: time.hour)\n",
    "trips['weekday'] = trips['started_at'].apply(lambda time: time.dayofweek)\n",
    "\n",
    "#Labeling months and days of the week\n",
    "mmap = dict({1:'January',2:'February',3:'March',4:'April',5:'May',6:'June',7:'July',8:'August',9:'September',10:'October',11:'November',12:'December'})\n",
    "trips['month'] = trips['month'].map(mmap)\n",
    "dmap = dict({0:'Monday', 1:'Tuesday', 2:'Wednesday', 3:'Thursday', 4:'Friday', 5:'Saturday', 6:'Sunday'})\n",
    "trips['weekday'] = trips['weekday'].map(dmap)\n",
    "\n",
    "#Trip Duration (converted to minutes)\n",
    "trips['duration'] = (trips['ended_at'] - trips['started_at']).astype('timedelta64[s]')/60\n",
    "\n",
    "#Round Trip\n",
    "trips['round_trip'] = np.where(trips['start_station_name'] == trips['end_station_name'], 1, 0)"
   ]
  },
  {
   "cell_type": "markdown",
   "metadata": {},
   "source": [
    "**Calculating trip distance**  \n",
    "This measure will not be accurate, but it gives us an idea of how far users typically travel."
   ]
  },
  {
   "cell_type": "code",
   "execution_count": 5,
   "metadata": {},
   "outputs": [],
   "source": [
    "#Function for calculating distance\n",
    "def haversine(lat1, lon1, lat2, lon2):\n",
    "    R = 6372800  # Earth radius in meters\n",
    "    \n",
    "    phi1, phi2 = np.radians(lat1), np.radians(lat2) \n",
    "    dphi       = np.radians(lat2 - lat1)\n",
    "    dlambda    = np.radians(lon2 - lon1)\n",
    "    \n",
    "    a = np.sin(dphi/2)**2 + np.cos(phi1)*np.cos(phi2)*np.sin(dlambda/2)**2\n",
    "    c = 2*np.arctan2(np.sqrt(a), np.sqrt(1 - a))\n",
    "    return R*c\n",
    "\n",
    "#Calculating distance\n",
    "trips['distance'] = trips.apply(lambda row: haversine(row.start_lat,row.start_lng,row.end_lat,row.end_lng), axis=1)"
   ]
  },
  {
   "cell_type": "markdown",
   "metadata": {},
   "source": [
    "**Cleaning up the data**  \n",
    "Now that our main data has been processed, we can start cleaning things up a bit.\n",
    "- There are some rides where duration shows up as negative, including several hundred rides where bikes were taken out of circulation for Quality Control reasons. We want to delete these rides.\n",
    "- There is 3 types of bikes in rideable_type, but there should only be two: classic and electric. This is because they introduced electric bikes during that time and changed the name of \"docked bike\" to \"classic bike\".\n",
    "- Removing unecessary columns that are no longer needed for our analyis\n",
    "- It is also a good idea to capitalize som words in the dataset such as 'Member' and 'Casual' so that labels appear neater during visualization, as well as renaming some columns to make it easier to navigate."
   ]
  },
  {
   "cell_type": "code",
   "execution_count": 6,
   "metadata": {},
   "outputs": [],
   "source": [
    "#Removing Rows\n",
    "trips.drop(trips[(trips[\"start_station_name\"] == \"HQ QR\") | (trips[\"duration\"] < 0)].index, inplace=True)\n",
    "\n",
    "#Renaming bike types\n",
    "trips['rideable_type'] = trips['rideable_type'].replace('docked_bike', \"Classic\")\\\n",
    "                                               .replace(\"electric_bike\",\"Electric\")\\\n",
    "                                               .replace(\"classic_bike\",\"Classic\")\n",
    "#Removing unecessary columns\n",
    "trips = trips.drop(['ride_id','ended_at','start_station_name','start_station_id','end_station_name','end_station_id','start_lat','start_lng','end_lat','end_lng'], axis=1)\n",
    "\n",
    "#Capitalizing user type\n",
    "trips['member_casual'] = trips['member_casual'].str.capitalize()\n",
    "\n",
    "#Renaming columns\n",
    "trips = trips.rename(columns={'started_at': 'date','member_casual':'user_type'})"
   ]
  },
  {
   "cell_type": "code",
   "execution_count": 7,
   "metadata": {},
   "outputs": [
    {
     "data": {
      "text/html": [
       "<div>\n",
       "<style scoped>\n",
       "    .dataframe tbody tr th:only-of-type {\n",
       "        vertical-align: middle;\n",
       "    }\n",
       "\n",
       "    .dataframe tbody tr th {\n",
       "        vertical-align: top;\n",
       "    }\n",
       "\n",
       "    .dataframe thead th {\n",
       "        text-align: right;\n",
       "    }\n",
       "</style>\n",
       "<table border=\"1\" class=\"dataframe\">\n",
       "  <thead>\n",
       "    <tr style=\"text-align: right;\">\n",
       "      <th></th>\n",
       "      <th>rideable_type</th>\n",
       "      <th>date</th>\n",
       "      <th>user_type</th>\n",
       "      <th>month</th>\n",
       "      <th>hour</th>\n",
       "      <th>weekday</th>\n",
       "      <th>duration</th>\n",
       "      <th>round_trip</th>\n",
       "      <th>distance</th>\n",
       "    </tr>\n",
       "  </thead>\n",
       "  <tbody>\n",
       "    <tr>\n",
       "      <th>0</th>\n",
       "      <td>Classic</td>\n",
       "      <td>2020-04-26 17:45:14</td>\n",
       "      <td>Member</td>\n",
       "      <td>April</td>\n",
       "      <td>17</td>\n",
       "      <td>Sunday</td>\n",
       "      <td>26.816667</td>\n",
       "      <td>0</td>\n",
       "      <td>3986.854852</td>\n",
       "    </tr>\n",
       "    <tr>\n",
       "      <th>1</th>\n",
       "      <td>Classic</td>\n",
       "      <td>2020-04-17 17:08:54</td>\n",
       "      <td>Member</td>\n",
       "      <td>April</td>\n",
       "      <td>17</td>\n",
       "      <td>Friday</td>\n",
       "      <td>8.150000</td>\n",
       "      <td>0</td>\n",
       "      <td>979.149109</td>\n",
       "    </tr>\n",
       "    <tr>\n",
       "      <th>2</th>\n",
       "      <td>Classic</td>\n",
       "      <td>2020-04-01 17:54:13</td>\n",
       "      <td>Member</td>\n",
       "      <td>April</td>\n",
       "      <td>17</td>\n",
       "      <td>Wednesday</td>\n",
       "      <td>14.383333</td>\n",
       "      <td>0</td>\n",
       "      <td>2988.612738</td>\n",
       "    </tr>\n",
       "    <tr>\n",
       "      <th>3</th>\n",
       "      <td>Classic</td>\n",
       "      <td>2020-04-07 12:50:19</td>\n",
       "      <td>Member</td>\n",
       "      <td>April</td>\n",
       "      <td>12</td>\n",
       "      <td>Tuesday</td>\n",
       "      <td>12.200000</td>\n",
       "      <td>0</td>\n",
       "      <td>2136.696642</td>\n",
       "    </tr>\n",
       "    <tr>\n",
       "      <th>4</th>\n",
       "      <td>Classic</td>\n",
       "      <td>2020-04-18 10:22:59</td>\n",
       "      <td>Casual</td>\n",
       "      <td>April</td>\n",
       "      <td>10</td>\n",
       "      <td>Saturday</td>\n",
       "      <td>52.916667</td>\n",
       "      <td>0</td>\n",
       "      <td>9130.087533</td>\n",
       "    </tr>\n",
       "  </tbody>\n",
       "</table>\n",
       "</div>"
      ],
      "text/plain": [
       "  rideable_type                date user_type  month  hour    weekday  \\\n",
       "0       Classic 2020-04-26 17:45:14    Member  April    17     Sunday   \n",
       "1       Classic 2020-04-17 17:08:54    Member  April    17     Friday   \n",
       "2       Classic 2020-04-01 17:54:13    Member  April    17  Wednesday   \n",
       "3       Classic 2020-04-07 12:50:19    Member  April    12    Tuesday   \n",
       "4       Classic 2020-04-18 10:22:59    Casual  April    10   Saturday   \n",
       "\n",
       "    duration  round_trip     distance  \n",
       "0  26.816667           0  3986.854852  \n",
       "1   8.150000           0   979.149109  \n",
       "2  14.383333           0  2988.612738  \n",
       "3  12.200000           0  2136.696642  \n",
       "4  52.916667           0  9130.087533  "
      ]
     },
     "execution_count": 7,
     "metadata": {},
     "output_type": "execute_result"
    }
   ],
   "source": [
    "trips.head()"
   ]
  },
  {
   "cell_type": "markdown",
   "metadata": {},
   "source": [
    "This now looks a lot neater!"
   ]
  },
  {
   "cell_type": "code",
   "execution_count": 8,
   "metadata": {},
   "outputs": [
    {
     "data": {
      "text/plain": [
       "rideable_type       0\n",
       "date                0\n",
       "user_type           0\n",
       "month               0\n",
       "hour                0\n",
       "weekday             0\n",
       "duration            0\n",
       "round_trip          0\n",
       "distance         4712\n",
       "dtype: int64"
      ]
     },
     "execution_count": 8,
     "metadata": {},
     "output_type": "execute_result"
    }
   ],
   "source": [
    "trips.isnull().sum()"
   ]
  },
  {
   "cell_type": "markdown",
   "metadata": {},
   "source": [
    "## Analysis  \n",
    "In order to answer the question \"How do annual members and casual riders use Cyclistic bikes differently?\", we want to know if there are any difference between the two for each data points that we have. And since we are interested in comparing the two, we will be using proportions for each user type instead of count. Thus, we want to know the following information:  \n",
    "- Proportion of riders each month\n",
    "- Proportion of riders each day of the week\n",
    "- Proportion of riders during each hour\n",
    "- Average duration of trips\n",
    "- Frequency of round trips\n",
    "- Average distance travelled\n",
    "- Type of bike preference"
   ]
  },
  {
   "cell_type": "markdown",
   "metadata": {},
   "source": [
    "**Proportion of riders each month**"
   ]
  },
  {
   "cell_type": "code",
   "execution_count": 9,
   "metadata": {},
   "outputs": [
    {
     "data": {
      "text/plain": [
       "<AxesSubplot:title={'center':'Proportion of Riders Each Month per User Type'}, xlabel='Month', ylabel='Ratio per User Type'>"
      ]
     },
     "execution_count": 9,
     "metadata": {},
     "output_type": "execute_result"
    },
    {
     "data": {
      "image/png": "[encoded data removed]",
      "text/plain": [
       "<Figure size 432x288 with 1 Axes>"
      ]
     },
     "metadata": {
      "needs_background": "light"
     },
     "output_type": "display_data"
    }
   ],
   "source": [
    "#Normalizing value counts so we can have ratios\n",
    "temp_trips = (trips['month']\n",
    "               .groupby(trips['user_type'])\n",
    "               .value_counts(normalize=True)\n",
    "               .rename('y')\n",
    "               .reset_index())\n",
    "month_order = ['April','May','June','July','August','September','October','November','December','January','February','March']\n",
    "\n",
    "plt = sns.barplot(x='month',y='y', data=temp_trips, hue='user_type', order=month_order)\n",
    "plt.set_title('Proportion of Riders Each Month per User Type')\n",
    "plt.set_xlabel('Month')\n",
    "plt.set_ylabel('Ratio per User Type')\n",
    "plt.set_xticklabels(rotation=30, labels=['April 2020','May 2020','June 2020','July 2020','August 2020','September 2020','October 2020','November 2020','December 2020','January 2021','February 2021','March 2021'])\n",
    "plt"
   ]
  },
  {
   "cell_type": "markdown",
   "metadata": {},
   "source": [
    "Casual riders tend to use the service proportionally much more frequently during the spring and summer and less over the fall and winter, compared to members who have less of a stark difference between winter and summer."
   ]
  },
  {
   "cell_type": "markdown",
   "metadata": {},
   "source": [
    "**Proportion of riders each day of the week**"
   ]
  },
  {
   "cell_type": "code",
   "execution_count": 10,
   "metadata": {},
   "outputs": [
    {
     "data": {
      "text/plain": [
       "<AxesSubplot:title={'center':'Proportion of Riders Each Day of the Week per User Type'}, xlabel='Weekday', ylabel='Ratio per User Type'>"
      ]
     },
     "execution_count": 10,
     "metadata": {},
     "output_type": "execute_result"
    },
    {
     "data": {
      "image/png": "[encoded data removed]",
      "text/plain": [
       "<Figure size 432x288 with 1 Axes>"
      ]
     },
     "metadata": {
      "needs_background": "light"
     },
     "output_type": "display_data"
    }
   ],
   "source": [
    "#Proportion of rider type each day of the week\n",
    "temp_trips = (trips['weekday']\n",
    "               .groupby(trips['user_type'])\n",
    "               .value_counts(normalize=True)\n",
    "               .rename('y')\n",
    "               .reset_index())\n",
    "weekday_order = ['Monday','Tuesday','Wednesday','Thursday','Friday','Saturday','Sunday']\n",
    "\n",
    "plt = sns.barplot(x='weekday',y='y', data=temp_trips, hue='user_type', order=weekday_order)\n",
    "plt.set_title('Proportion of Riders Each Day of the Week per User Type')\n",
    "plt.set_xlabel('Weekday')\n",
    "plt.set_ylabel('Ratio per User Type')\n",
    "plt.set_xticklabels(plt.get_xticklabels(), rotation=30)\n",
    "plt"
   ]
  },
  {
   "cell_type": "markdown",
   "metadata": {},
   "source": [
    "Casual riders tend to use the service most frequently over the weekend (Saturday and Sunday), while members are more evenly distributed."
   ]
  },
  {
   "cell_type": "markdown",
   "metadata": {},
   "source": [
    "**Proportion of riders at each hour**"
   ]
  },
  {
   "cell_type": "code",
   "execution_count": 11,
   "metadata": {},
   "outputs": [
    {
     "data": {
      "text/plain": [
       "<AxesSubplot:title={'center':'Proportion of Riders at Each Hour per User Type'}, xlabel='Hour', ylabel='Ratio per User Type'>"
      ]
     },
     "execution_count": 11,
     "metadata": {},
     "output_type": "execute_result"
    },
    {
     "data": {
      "image/png": "[encoded data removed]",
      "text/plain": [
       "<Figure size 432x288 with 1 Axes>"
      ]
     },
     "metadata": {
      "needs_background": "light"
     },
     "output_type": "display_data"
    }
   ],
   "source": [
    "temp_trips = (trips['hour']\n",
    "               .groupby(trips['user_type'])\n",
    "               .value_counts(normalize=True)\n",
    "               .rename('y')\n",
    "               .reset_index())\n",
    "\n",
    "plt = sns.lineplot(x='hour',y='y', data=temp_trips, hue='user_type')\n",
    "plt.set_title('Proportion of Riders at Each Hour per User Type')\n",
    "plt.set_xlabel('Hour')\n",
    "plt.set_ylabel('Ratio per User Type')\n",
    "plt"
   ]
  },
  {
   "cell_type": "markdown",
   "metadata": {},
   "source": [
    "Members tend to use the service more frequently in the morning and early evening, compared to casual who are more evenly distributed. This suggest that casuals don't use the service as much to transit to work."
   ]
  },
  {
   "cell_type": "markdown",
   "metadata": {},
   "source": [
    "**Average duration of trips**"
   ]
  },
  {
   "cell_type": "code",
   "execution_count": 12,
   "metadata": {},
   "outputs": [
    {
     "data": {
      "text/plain": [
       "user_type\n",
       "Casual    44.969537\n",
       "Member    16.115112\n",
       "Name: duration, dtype: float64"
      ]
     },
     "execution_count": 12,
     "metadata": {},
     "output_type": "execute_result"
    }
   ],
   "source": [
    "trips.groupby('user_type').mean()['duration']"
   ]
  },
  {
   "cell_type": "markdown",
   "metadata": {},
   "source": [
    "Casuals tend to have much longer trips at an average of 45 minutes per trip compared to members who average at 16 minutes."
   ]
  },
  {
   "cell_type": "markdown",
   "metadata": {},
   "source": [
    "**Proportion of round trips**"
   ]
  },
  {
   "cell_type": "code",
   "execution_count": 13,
   "metadata": {},
   "outputs": [
    {
     "data": {
      "text/plain": [
       "user_type\n",
       "Casual    0.173540\n",
       "Member    0.055679\n",
       "Name: round_trip, dtype: float64"
      ]
     },
     "execution_count": 13,
     "metadata": {},
     "output_type": "execute_result"
    }
   ],
   "source": [
    "trips.groupby('user_type').mean()['round_trip']"
   ]
  },
  {
   "cell_type": "markdown",
   "metadata": {},
   "source": [
    "Casuals tend to do round trips much more frequently at 17% of the time compared to member who do round trips 6% of the time."
   ]
  },
  {
   "cell_type": "markdown",
   "metadata": {},
   "source": [
    "**Average distance travelled**"
   ]
  },
  {
   "cell_type": "code",
   "execution_count": 14,
   "metadata": {},
   "outputs": [
    {
     "data": {
      "text/html": [
       "<div>\n",
       "<style scoped>\n",
       "    .dataframe tbody tr th:only-of-type {\n",
       "        vertical-align: middle;\n",
       "    }\n",
       "\n",
       "    .dataframe tbody tr th {\n",
       "        vertical-align: top;\n",
       "    }\n",
       "\n",
       "    .dataframe thead th {\n",
       "        text-align: right;\n",
       "    }\n",
       "</style>\n",
       "<table border=\"1\" class=\"dataframe\">\n",
       "  <thead>\n",
       "    <tr style=\"text-align: right;\">\n",
       "      <th></th>\n",
       "      <th>mean</th>\n",
       "      <th>std</th>\n",
       "    </tr>\n",
       "    <tr>\n",
       "      <th>user_type</th>\n",
       "      <th></th>\n",
       "      <th></th>\n",
       "    </tr>\n",
       "  </thead>\n",
       "  <tbody>\n",
       "    <tr>\n",
       "      <th>Casual</th>\n",
       "      <td>2643.630490</td>\n",
       "      <td>2138.007018</td>\n",
       "    </tr>\n",
       "    <tr>\n",
       "      <th>Member</th>\n",
       "      <td>2398.904713</td>\n",
       "      <td>1899.685164</td>\n",
       "    </tr>\n",
       "  </tbody>\n",
       "</table>\n",
       "</div>"
      ],
      "text/plain": [
       "                  mean          std\n",
       "user_type                          \n",
       "Casual     2643.630490  2138.007018\n",
       "Member     2398.904713  1899.685164"
      ]
     },
     "execution_count": 14,
     "metadata": {},
     "output_type": "execute_result"
    }
   ],
   "source": [
    "trips[trips['round_trip'] == 0].groupby('user_type').agg(['mean','std'])['distance']"
   ]
  },
  {
   "cell_type": "markdown",
   "metadata": {},
   "source": [
    "After removing round trips (of distance equal to 0), casual riders appear to travel slightly further distances by 250 meters, however this difference is not very significant enough to be notable."
   ]
  },
  {
   "cell_type": "markdown",
   "metadata": {},
   "source": [
    "**Type of bike preference**"
   ]
  },
  {
   "cell_type": "code",
   "execution_count": 15,
   "metadata": {},
   "outputs": [
    {
     "data": {
      "text/plain": [
       "user_type  rideable_type\n",
       "Casual     Classic          0.829788\n",
       "           Electric         0.170212\n",
       "Member     Classic          0.820531\n",
       "           Electric         0.179469\n",
       "Name: date, dtype: float64"
      ]
     },
     "execution_count": 15,
     "metadata": {},
     "output_type": "execute_result"
    }
   ],
   "source": [
    "gb = trips.groupby(['user_type','rideable_type']).count()['date']\n",
    "gb.groupby(level=0).apply(lambda x: x/x.sum())"
   ]
  },
  {
   "cell_type": "markdown",
   "metadata": {},
   "source": [
    "There is no difference in the type of bike each user type prefer to use."
   ]
  },
  {
   "cell_type": "markdown",
   "metadata": {},
   "source": [
    "## Conclusion  \n",
    "There seems to be no significant difference between the two types of users in the distance of the trip and in the type of bike preference. We can on the other hand observe from the above analysis the following difference:\n",
    "- **Month**: Casual riders tend to use the service proportionally much more frequently during the spring and summer and less over the fall and winter, compared to members who have less of a stark difference between winter and summer.\n",
    "- **Weekday**: Casual riders tend to use the service most frequently over the weekend (Saturday and Sunday), while members are more evenly distributed.\n",
    "- **Hour**: Members tend to use the service more frequently in the morning and early evening, compared to casual who are more evenly distributed. This suggest that casuals don't use the service as much to transit to work.\n",
    "- **Trip Duration**: Casuals tend to have much longer trips at an average of 45 minutes per trip compared to members who average at 16 minutes.\n",
    "- **Round Trips**: Casuals tend to do round trips much more frequently at 17% of the time compared to member who do round trips 6% of the time.\n",
    "\n",
    "Overall, these observatons suggest that casuals tend to use the service much more frequently for leisure (over the weekend, in the summer,etc), than members who perhaps use it as their main mode of transportation (for work, during the winter, etc).\n",
    "\n",
    "A Tableau dashboard with the above findings can also be found at the following link:  \n",
    "https://public.tableau.com/profile/michael2724#!/vizhome/Ride-ShareAnalysis/UserTypeComparison\n",
    "\n",
    "**Potential improvements**  \n",
    "Unfortunately, we don't have any information on users due to privacy issues. On a bigger project, we might want to analyse the behavior difference of casual riders and annual members such as knowing the frequency at which members and casuals use the service, or if there are any patterns in the way any of the two groups use the service, like using it for work or for leisure."
   ]
  }
 ],
 "metadata": {
  "kernelspec": {
   "display_name": "Python 3",
   "language": "python",
   "name": "python3"
  },
  "language_info": {
   "codemirror_mode": {
    "name": "ipython",
    "version": 3
   },
   "file_extension": ".py",
   "mimetype": "text/x-python",
   "name": "python",
   "nbconvert_exporter": "python",
   "pygments_lexer": "ipython3",
   "version": "3.8.5"
  }
 },
 "nbformat": 4,
 "nbformat_minor": 4
}
